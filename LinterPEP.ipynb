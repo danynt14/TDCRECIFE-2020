{
 "cells": [
  {
   "cell_type": "code",
   "execution_count": 142,
   "metadata": {},
   "outputs": [],
   "source": [
    "import this"
   ]
  },
  {
   "cell_type": "code",
   "execution_count": 1,
   "metadata": {
    "scrolled": true
   },
   "outputs": [
    {
     "name": "stdout",
     "output_type": "stream",
     "text": [
      "The Zen of Python, by Tim Peters\n",
      "\n",
      "Beautiful is better than ugly.\n",
      "Explicit is better than implicit.\n",
      "Simple is better than complex.\n",
      "Complex is better than complicated.\n",
      "Flat is better than nested.\n",
      "Sparse is better than dense.\n",
      "Readability counts.\n",
      "Special cases aren't special enough to break the rules.\n",
      "Although practicality beats purity.\n",
      "Errors should never pass silently.\n",
      "Unless explicitly silenced.\n",
      "In the face of ambiguity, refuse the temptation to guess.\n",
      "There should be one-- and preferably only one --obvious way to do it.\n",
      "Although that way may not be obvious at first unless you're Dutch.\n",
      "Now is better than never.\n",
      "Although never is often better than *right* now.\n",
      "If the implementation is hard to explain, it's a bad idea.\n",
      "If the implementation is easy to explain, it may be a good idea.\n",
      "Namespaces are one honking great idea -- let's do more of those!\n"
     ]
    }
   ],
   "source": [
    "import this"
   ]
  },
  {
   "cell_type": "code",
   "execution_count": 3,
   "metadata": {},
   "outputs": [
    {
     "name": "stdout",
     "output_type": "stream",
     "text": [
      "The pycodestyle_magic extension is already loaded. To reload it, use:\n",
      "  %reload_ext pycodestyle_magic\n"
     ]
    }
   ],
   "source": [
    "%load_ext pycodestyle_magic"
   ]
  },
  {
   "cell_type": "markdown",
   "metadata": {},
   "source": [
    "# Comentários\n",
    "\n",
    "1. Comentários inline separado por espaço do '#'\n",
    "2. Comentários com múltiplas ou docstrings linhas com quebra de linhas antes antes e depois do conteúdo \n"
   ]
  },
  {
   "cell_type": "code",
   "execution_count": 152,
   "metadata": {},
   "outputs": [
    {
     "name": "stderr",
     "output_type": "stream",
     "text": [
      "16:1: W391 blank line at end of file\n"
     ]
    }
   ],
   "source": [
    "%%pycodestyle\n",
    "\n",
    "# Código limpo\n",
    "\n",
    "def myDocstrings:\n",
    "    \"\"\"\n",
    "        This module is intended to provide functions for scientific computing\n",
    "    \"\"\"\n",
    "\n",
    "\n",
    "print(this.s)\n",
    "\n",
    "\n",
    "\n",
    "\n"
   ]
  },
  {
   "cell_type": "markdown",
   "metadata": {},
   "source": [
    "# Variáveis\n",
    "   1. Permissível os caracteres:\n",
    "   * caixa baixa a - z\n",
    "   * caixa alte A - Z\n",
    "   * 0 - 9\n",
    "   * _\n",
    "   2. Nome que que faça sentido\n",
    "     1. velocidade escalar\n",
    "     * velocidadeEscalar ao invés de v\n",
    "   3. Variável que tenha mais de uma palavra\n",
    "     * ola_mundo\n",
    "     * olaMundo\n",
    "   4. Constante use apenas cariável em CAIXA ALTA\n",
    "     * PI = 3.14\n",
    "     * QUANTIDADE_ESTADOS_BR = 27\n",
    "   5. Não use caracteres especiais\n",
    "   6. Não comece variáveis com números\n",
    "   7. Padrões de variáveis\n",
    "     * snake_case\n",
    "     * MACRO_CASE\n",
    "     * camelCase\n",
    "     * CapWords"
   ]
  },
  {
   "cell_type": "code",
   "execution_count": 156,
   "metadata": {},
   "outputs": [
    {
     "name": "stderr",
     "output_type": "stream",
     "text": [
      "11:1: W391 blank line at end of file\n"
     ]
    }
   ],
   "source": [
    "%%pycodestyle\n",
    "\n",
    "# Código limpo\n",
    "\n",
    "primeiro_algorismo, segundoAlgorismo = 3, 36\n",
    "\n",
    "terceiroAlgorismo = 45\n",
    "QUARTOALGORISMO = 54\n",
    "\n",
    "lista_vazia = []  # Inicializa a Lista"
   ]
  },
  {
   "cell_type": "markdown",
   "metadata": {},
   "source": [
    "# Indentação \n",
    "\n",
    "1. Manter 4 espaços por nível de indentação\n",
    "* Python 3 não permite o uso de tabs misturados com espaços para fazer a indentação\n",
    "2. Usar o alinhamento elementos verticalmente que estão entre parêntese, colchetes ou chaves\n",
    "3. Ao usar o hanging indent assegure que não há argumentos na primeira linha\n",
    "\n"
   ]
  },
  {
   "cell_type": "code",
   "execution_count": 158,
   "metadata": {},
   "outputs": [
    {
     "name": "stderr",
     "output_type": "stream",
     "text": [
      "14:1: W391 blank line at end of file\n"
     ]
    }
   ],
   "source": [
    "%%pycodestyle\n",
    "\n",
    "# Código limpo\n",
    "cidadesTDC = ('RECIFE', 'FLORIANÓPOLIS',\n",
    "              'BELO HORIZONTE', 'SÃO PAULO')\n",
    "\n",
    "trilhasTDC = (\n",
    "    'TESTE DE CÓDIGO', 'JAVA', 'PYTHON',\n",
    "    'JAVA', 'KANBAN', 'NODE')\n",
    "my_list = [\n",
    "    1, 2, 3,\n",
    "    4, 5, 6,\n",
    "    ]"
   ]
  },
  {
   "cell_type": "code",
   "execution_count": 90,
   "metadata": {},
   "outputs": [
    {
     "name": "stderr",
     "output_type": "stream",
     "text": [
      "3:41: W291 trailing whitespace\n",
      "4:1: E128 continuation line under-indented for visual indent\n",
      "7:30: E231 missing whitespace after ','\n",
      "7:40: W291 trailing whitespace\n",
      "8:12: W291 trailing whitespace\n",
      "11:1: W391 blank line at end of file\n"
     ]
    }
   ],
   "source": [
    "%%pycodestyle \n",
    "\n",
    "# Código Sujo\n",
    "\n",
    "cidadesTDC = ('RECIFE', 'FLORIANÓPOLIS', \n",
    "'BELO HORIZONTE', 'SÃO PAULO')\n",
    "\n",
    "trilhasTDC = (\n",
    "    'TESTE DE CÓDIGO', 'JAVA','PYTHON', \n",
    "    'JAVA',       \n",
    "    'KANBAN', 'NODE')\n",
    "\n"
   ]
  },
  {
   "cell_type": "code",
   "execution_count": 159,
   "metadata": {},
   "outputs": [
    {
     "name": "stderr",
     "output_type": "stream",
     "text": [
      "6:11: E128 continuation line under-indented for visual indent\n",
      "7:11: E128 continuation line under-indented for visual indent\n",
      "7:30: W291 trailing whitespace\n",
      "8:11: E128 continuation line under-indented for visual indent\n",
      "9:1: W293 blank line contains whitespace\n",
      "11:11: E111 indentation is not a multiple of four\n",
      "11:11: E113 unexpected indentation\n",
      "12:11: E111 indentation is not a multiple of four\n",
      "12:30: W291 trailing whitespace\n",
      "13:11: E111 indentation is not a multiple of four\n",
      "14:1: W391 blank line at end of file\n"
     ]
    }
   ],
   "source": [
    "%%pycodestyle \n",
    "\n",
    "# Expressão matemática Legível\n",
    "\n",
    "formula = (primeiro_algorismo\n",
    "          + segundoAlgorismo\n",
    "          + terceiroAlgorismo \n",
    "          * QUARTOALGORISMO)\n",
    "        \n",
    "formula = primeiro_algorismo\n",
    "          + segundoAlgorismo\n",
    "          + terceiroAlgorismo \n",
    "          * QUARTOALGORISMO"
   ]
  },
  {
   "cell_type": "markdown",
   "metadata": {},
   "source": [
    "# Tamanho da linha\n",
    "1. Tamanho máximo da linha de código é 79 caracteres\n",
    "2. Para docstrings ou comentários o tamanho máximo é 72"
   ]
  },
  {
   "cell_type": "code",
   "execution_count": 91,
   "metadata": {},
   "outputs": [
    {
     "name": "stderr",
     "output_type": "stream",
     "text": [
      "4:80: E501 line too long (84 > 79 characters)\n",
      "5:1: W391 blank line at end of file\n"
     ]
    }
   ],
   "source": [
    "%%pycodestyle \n",
    "\n",
    "# Errado\n",
    "print('Gur Mra bs Clguba, ol Gvz Crgref\\n\\nOrnhgvshy vf orggre guna htyl.\\nRkcyvpv')"
   ]
  },
  {
   "cell_type": "code",
   "execution_count": 92,
   "metadata": {},
   "outputs": [
    {
     "name": "stderr",
     "output_type": "stream",
     "text": [
      "6:1: W391 blank line at end of file\n"
     ]
    }
   ],
   "source": [
    "%%pycodestyle \n",
    "\n",
    "# Correto\n",
    "print('Gur Mra bs Clguba, ol Gvz Crgrefuna htyl.\\nRkc')\n",
    "a = this.s[:90]"
   ]
  },
  {
   "cell_type": "markdown",
   "metadata": {},
   "source": [
    "# Quebra de linha \n",
    "\n",
    "1. Quebra de linha antes do operador matemático torna a expressão mais legível\n"
   ]
  },
  {
   "cell_type": "code",
   "execution_count": 160,
   "metadata": {},
   "outputs": [
    {
     "name": "stderr",
     "output_type": "stream",
     "text": [
      "4:1: W391 blank line at end of file\n"
     ]
    }
   ],
   "source": [
    "%%pycodestyle \n",
    "\n",
    "# Quebra De Linha \n",
    "# .ipynb\n"
   ]
  },
  {
   "cell_type": "markdown",
   "metadata": {},
   "source": [
    "# Importações \n",
    "1. Tem que ser separados por linhas  "
   ]
  },
  {
   "cell_type": "code",
   "execution_count": 161,
   "metadata": {},
   "outputs": [
    {
     "name": "stderr",
     "output_type": "stream",
     "text": [
      "6:1: W391 blank line at end of file\n"
     ]
    }
   ],
   "source": [
    "%%pycodestyle \n",
    "\n",
    "# Errado\n",
    "import numpy\n",
    "import math"
   ]
  },
  {
   "cell_type": "markdown",
   "metadata": {},
   "source": [
    "# Outras Recomendações"
   ]
  },
  {
   "cell_type": "code",
   "execution_count": 162,
   "metadata": {},
   "outputs": [
    {
     "name": "stderr",
     "output_type": "stream",
     "text": [
      "10:1: W391 blank line at end of file\n"
     ]
    }
   ],
   "source": [
    "%%pycodestyle \n",
    "\n",
    "# Codigo Limpo\n",
    "def numero_complexo(real, imaginario=0.0):\n",
    "    return real + j * imaginario\n",
    "def numero_complexo_DOIS(real, imaginario=0.0):\n",
    "    return real + j * imaginario\n"
   ]
  },
  {
   "cell_type": "code",
   "execution_count": 116,
   "metadata": {},
   "outputs": [
    {
     "name": "stderr",
     "output_type": "stream",
     "text": [
      "4:25: E231 missing whitespace after ','\n",
      "6:1: W391 blank line at end of file\n"
     ]
    }
   ],
   "source": [
    "%%pycodestyle \n",
    "\n",
    "# Código sujo\n",
    "def numero_complexo(real, imagaginario=0.0):\n",
    "    return real+j*imaginario\n"
   ]
  },
  {
   "cell_type": "code",
   "execution_count": 136,
   "metadata": {},
   "outputs": [],
   "source": [
    "import this\n"
   ]
  },
  {
   "cell_type": "code",
   "execution_count": 132,
   "metadata": {},
   "outputs": [],
   "source": [
    "# https://www.python.org/dev/peps/pep-0008/"
   ]
  },
  {
   "cell_type": "code",
   "execution_count": 137,
   "metadata": {},
   "outputs": [
    {
     "name": "stdout",
     "output_type": "stream",
     "text": [
      "The Anti-Zen of Python, by Daniel Greenfeld\n",
      "\n",
      "Ugly is better than beautiful.\n",
      "Implicit is better than explicit.\n",
      "Complicated is better than complex.\n",
      "Complex is better than simple.\n",
      "Nested is better than flat.\n",
      "Dense is better than sparse.\n",
      "Line code counts.\n",
      "Special cases are special enough to break the rules.\n",
      "Although purity beats practicality.\n",
      "Errors should always pass silently.\n",
      "Spelchek iz fur loosers.\n",
      "In the face of ambiguity, one guess is as good as another.\n",
      "There should be many ways to do it.\n",
      "Because only a tiny minority of us are Dutch.\n",
      "Get things running, then fix them later.\n",
      "If the implementation is hard to explain, it's enterprisey.\n",
      "If the implementation is easy to explain, it won't take enough time to do.\n",
      "Namespaces are too hard, just use \"from module import *\"!\n"
     ]
    }
   ],
   "source": [
    "import that"
   ]
  },
  {
   "cell_type": "code",
   "execution_count": null,
   "metadata": {},
   "outputs": [],
   "source": [
    "\"\"\"\n",
    "   Outros Linters em Python:\n",
    "   \n",
    "   https://pypi.org/project/pycodestyle/\n",
    "   https://pypi.org/project/flake8/\n",
    "   https://pypi.org/project/pep8/\n",
    "\n",
    "\"\"\""
   ]
  },
  {
   "cell_type": "code",
   "execution_count": null,
   "metadata": {},
   "outputs": [],
   "source": []
  },
  {
   "cell_type": "code",
   "execution_count": null,
   "metadata": {},
   "outputs": [],
   "source": []
  },
  {
   "cell_type": "code",
   "execution_count": null,
   "metadata": {},
   "outputs": [],
   "source": []
  }
 ],
 "metadata": {
  "kernelspec": {
   "display_name": "Python 3",
   "language": "python",
   "name": "python3"
  },
  "language_info": {
   "codemirror_mode": {
    "name": "ipython",
    "version": 3
   },
   "file_extension": ".py",
   "mimetype": "text/x-python",
   "name": "python",
   "nbconvert_exporter": "python",
   "pygments_lexer": "ipython3",
   "version": "3.8.5"
  }
 },
 "nbformat": 4,
 "nbformat_minor": 4
}
